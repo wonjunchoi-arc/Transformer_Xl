{
 "cells": [
  {
   "cell_type": "code",
   "execution_count": null,
   "metadata": {},
   "outputs": [],
   "source": [
    "# # 텍스트 파일 열기\n",
    "# with open('/home/jun/workspace/wikitext-103/train.txt', 'r', encoding='utf-8') as file:\n",
    "#     lines = file.readlines()  # 파일의 모든 줄을 읽어 리스트로 저장\n",
    "#     num_lines = len(lines)     # 리스트의 길이를 확인하여 전체 줄 수 파악\n",
    "#     print(\"전체 줄 수:\", num_lines)"
   ]
  },
  {
   "cell_type": "code",
   "execution_count": null,
   "metadata": {},
   "outputs": [],
   "source": [
    "# def save_first_lines(input_file, output_file, num_lines):\n",
    "#     with open(input_file, 'r', encoding='utf-8') as file:\n",
    "#         lines = file.readlines()  # 파일의 모든 줄을 읽어 리스트로 저장\n",
    "\n",
    "#     first_lines = lines[:num_lines]\n",
    "\n",
    "#     with open(output_file, 'w', encoding='utf-8') as output:\n",
    "#         output.writelines(first_lines)\n",
    "\n",
    "# # 사용 예시\n",
    "# input_file = '/home/jun/workspace/wikitext-103/train.txt'  # 입력 텍스트 파일\n",
    "# output_file = '/home/jun/workspace/wikitext-103/train_s.txt'  # 저장할 파일 이름\n",
    "# num_lines = 100000  # 저장할 라인 수\n",
    "\n",
    "# # 함수 호출\n",
    "# save_first_lines(input_file, output_file, num_lines)"
   ]
  }
 ],
 "metadata": {
  "language_info": {
   "name": "python"
  },
  "orig_nbformat": 4
 },
 "nbformat": 4,
 "nbformat_minor": 2
}
