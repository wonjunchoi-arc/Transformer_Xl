{
 "cells": [
  {
   "cell_type": "code",
   "execution_count": null,
   "metadata": {},
   "outputs": [],
   "source": [
    "import tensorflow as tf\n",
    "\n",
    "\n",
    "class TFPositionalEmbedding(tf.keras.layers.Layer):\n",
    "    def __init__(self, demb, **kwargs):\n",
    "        super().__init__(**kwargs)\n",
    "\n",
    "        self.inv_freq = 1 / (10000 ** (tf.range(0, demb, 2.0) / demb))\n",
    "\n",
    "    def call(self, pos_seq, bsz=None):\n",
    "        print(self.inv_freq)\n",
    "        self.inv_freq = tf.cast(self.inv_freq, dtype=pos_seq.dtype)\n",
    "        sinusoid_inp = tf.einsum(\"i,j->ij\", pos_seq, self.inv_freq)\n",
    "        print('sinusoid_inp',sinusoid_inp)\n",
    "        pos_emb = tf.concat([tf.sin(sinusoid_inp), tf.cos(sinusoid_inp)], -1)\n",
    "\n",
    "        if bsz is not None:\n",
    "            return tf.tile(pos_emb[:, None, :], [1, bsz, 1])\n",
    "        else:\n",
    "            return pos_emb[:, None, :]"
   ]
  },
  {
   "cell_type": "code",
   "execution_count": null,
   "metadata": {},
   "outputs": [],
   "source": [
    "a = 1 / (10000 ** (tf.range(0, 20, 2.0)/20))\n",
    "print(a)"
   ]
  },
  {
   "cell_type": "code",
   "execution_count": null,
   "metadata": {},
   "outputs": [],
   "source": [
    "klen = 10\n",
    "d_model = 20\n",
    "pos_seq = tf.range(klen - 1, -1, -1.0)\n"
   ]
  },
  {
   "cell_type": "code",
   "execution_count": null,
   "metadata": {},
   "outputs": [],
   "source": [
    "pos_seq"
   ]
  },
  {
   "cell_type": "code",
   "execution_count": null,
   "metadata": {},
   "outputs": [],
   "source": [
    "klen = 10\n",
    "d_model = 20\n",
    "pos_seq = tf.range(klen - 1, -1, -1.0)\n",
    "A = tf.cast(a, dtype=tf.float32)\n",
    "sinusoid_inp = tf.einsum(\"i,j->ij\", pos_seq, A)\n",
    "sin_sinusoid_inp = tf.sin(sinusoid_inp)\n",
    "cos_sinusoid_inp = tf.cos(sinusoid_inp)\n",
    "\n",
    "df = sin_sinusoid_inp.numpy()\n",
    "df_frame = pd.DataFrame(df)\n",
    "df_frame"
   ]
  },
  {
   "cell_type": "code",
   "execution_count": null,
   "metadata": {},
   "outputs": [],
   "source": [
    "df = cos_sinusoid_inp.numpy()\n",
    "df_frame = pd.DataFrame(df)\n",
    "df_frame"
   ]
  },
  {
   "cell_type": "code",
   "execution_count": null,
   "metadata": {},
   "outputs": [],
   "source": []
  }
 ],
 "metadata": {
  "language_info": {
   "name": "python"
  },
  "orig_nbformat": 4
 },
 "nbformat": 4,
 "nbformat_minor": 2
}
