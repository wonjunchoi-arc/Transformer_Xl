{
 "cells": [
  {
   "cell_type": "code",
   "execution_count": 10,
   "metadata": {},
   "outputs": [],
   "source": [
    "import tensorflow as tf\n",
    "\n",
    "# 주어진 배열을 이용하여 (2,2,2,2) 차원의 텐서를 만듭니다.\n",
    "data = [[[[6, 7],\n",
    "          [6, 7]],\n",
    "         [[1, 2],\n",
    "          [8, 7]]]]\n",
    "          \n",
    "        # [[[3, 3],\n",
    "        #   [3, 3]],\n",
    "        #  [[4, 4],\n",
    "        #   [4, 4]]]]\n",
    "\n",
    "# 위 데이터를 텐서플로우 상수로 변환합니다.\n",
    "sentence = tf.constant(data, dtype=tf.int32)\n",
    "\n",
    "# A의 형태를 확인하여 (2,2,2,2) 차원의 텐서가 맞는지 확인합니다.\n",
    "# print(A.shape)"
   ]
  },
  {
   "cell_type": "code",
   "execution_count": 11,
   "metadata": {},
   "outputs": [
    {
     "data": {
      "text/plain": [
       "<tf.Tensor: shape=(1, 2, 2, 2), dtype=int32, numpy=\n",
       "array([[[[6, 7],\n",
       "         [6, 7]],\n",
       "\n",
       "        [[1, 2],\n",
       "         [8, 7]]]], dtype=int32)>"
      ]
     },
     "execution_count": 11,
     "metadata": {},
     "output_type": "execute_result"
    }
   ],
   "source": [
    "sentence"
   ]
  },
  {
   "cell_type": "code",
   "execution_count": 12,
   "metadata": {},
   "outputs": [
    {
     "data": {
      "text/plain": [
       "<tf.Tensor: shape=(1, 1, 2, 2), dtype=int32, numpy=\n",
       "array([[[[ 85,  85],\n",
       "         [  5, 113]]]], dtype=int32)>"
      ]
     },
     "execution_count": 12,
     "metadata": {},
     "output_type": "execute_result"
    }
   ],
   "source": [
    "resulta = tf.einsum(\"ibnd,jbnd->ijbn\", sentence, sentence)\n",
    "resulta"
   ]
  },
  {
   "cell_type": "code",
   "execution_count": null,
   "metadata": {},
   "outputs": [],
   "source": [
    "print(sentence[0,1,1,:])\n",
    "print(sentence[0,1,1,:])"
   ]
  },
  {
   "cell_type": "code",
   "execution_count": null,
   "metadata": {},
   "outputs": [],
   "source": [
    "\n",
    "# 결과를 저장할 리스트를 초기화합니다.\n",
    "result_list = []\n",
    "\n",
    "# 직접 계산하는 방식\n",
    "for i in range(sentence.shape[0]):\n",
    "    for j in range(sentence.shape[0]):  # 범위를 20으로 변경합니다.\n",
    "        for b in range(sentence.shape[1]):\n",
    "            for n in range(sentence.shape[2]):\n",
    "                # temp_sum을 계산합니다.\n",
    "                temp_sum = tf.reduce_sum(sentence[i, b, n, :] * sentence[j, b, n, :], axis=-1)\n",
    "                # 결과 리스트에 추가합니다.\n",
    "                result_list.append(temp_sum.numpy())\n",
    "\n",
    "# 리스트를 텐서로 변환합니다.\n",
    "result_tensor = tf.convert_to_tensor(result_list, dtype=tf.int32)\n",
    "result_tensor = tf.reshape(result_tensor, (2, 2, 2, 2))\n",
    "\n",
    "# einsum을 사용하는 방식\n",
    "einsum_result = tf.einsum(\"ibnd,jbnd->ijbn\", sentence, sentence)\n",
    "\n",
    "# 두 결과가 동일한지 검증합니다.\n",
    "print(tf.reduce_all(result_tensor == einsum_result).numpy())\n",
    "print('result_tensor',result_tensor)"
   ]
  },
  {
   "cell_type": "markdown",
   "metadata": {},
   "source": [
    "BD"
   ]
  },
  {
   "cell_type": "code",
   "execution_count": null,
   "metadata": {},
   "outputs": [],
   "source": [
    "import numpy as np\n",
    "w = np.array([\n",
    "    [[[1, 1, 1, 1], [1, 1, 1, 1]],[[15, 15, 15, 15], [15, 15, 15, 15]]],\n",
    "    [[[2, 2, 2, 2], [2, 2, 2, 2]],[[25, 25, 25, 25], [25, 25, 25, 25]]],\n",
    "    [[[3, 3, 3, 3], [3, 3, 3, 3]],[[35, 35, 35, 35], [35, 35, 35, 35]]]])\n",
    "# w = np.array([\n",
    "#     [[[1, 1, 1, 1], [1, 1, 1, 1]]],\n",
    "#     [[[2, 2, 2, 2], [2, 2, 2, 2]]],\n",
    "#     [[[3, 3, 3, 3], [3, 3, 3, 3]]]])\n",
    "k = np.array([\n",
    "    [[1, 1, 1, 1],[1, 1, 1, 1]],\n",
    "    [[2, 2, 2, 2],[2, 2, 2, 2]],\n",
    "    [[3, 3, 3, 3],[3, 3, 3, 3]]\n",
    "])"
   ]
  },
  {
   "cell_type": "code",
   "execution_count": null,
   "metadata": {},
   "outputs": [],
   "source": [
    "# Implement the modified for loop to mimic the corrected einsum operation \"ibnd,jnd->ijbn\"\n",
    "# Note: The output shape should be (3, 3, 1, 2) as per the einsum operation\n",
    "output_modified = np.zeros((3, 3, 1, 2))\n",
    "\n",
    "for i in range(w.shape[0]):\n",
    "    for j in range(k.shape[0]):\n",
    "        for b in range(w.shape[1]):  # Only one value for the third dimension\n",
    "            for n in range(w.shape[2]):  # Only two values for the fourth dimension\n",
    "                sum_value = 0\n",
    "                for d in range(w.shape[3]):  # Sum over the last dimension of k and the third dimension of w\n",
    "                    sum_value += w[i, 0, b, d] * k[j, b, d]\n",
    "                output_modified[i, j, b, n] = sum_value\n",
    "\n",
    "output_modified.shape, output_modified"
   ]
  },
  {
   "cell_type": "code",
   "execution_count": null,
   "metadata": {},
   "outputs": [],
   "source": [
    "BD = tf.einsum(\"ibnd,jnd->ijbn\", w, k)  # qlen x klen x bsz x n_head\n",
    "BD"
   ]
  },
  {
   "cell_type": "code",
   "execution_count": 13,
   "metadata": {},
   "outputs": [
    {
     "name": "stdout",
     "output_type": "stream",
     "text": [
      "Original x:\n",
      "[[[[ 1  2]]\n",
      "\n",
      "  [[ 3  4]]\n",
      "\n",
      "  [[ 5  6]]\n",
      "\n",
      "  [[ 7  8]]\n",
      "\n",
      "  [[ 9 10]]\n",
      "\n",
      "  [[11 12]]\n",
      "\n",
      "  [[13 14]]\n",
      "\n",
      "  [[15 16]]]\n",
      "\n",
      "\n",
      " [[[17 18]]\n",
      "\n",
      "  [[19 20]]\n",
      "\n",
      "  [[21 22]]\n",
      "\n",
      "  [[23 24]]\n",
      "\n",
      "  [[25 26]]\n",
      "\n",
      "  [[27 28]]\n",
      "\n",
      "  [[29 30]]\n",
      "\n",
      "  [[31 32]]]\n",
      "\n",
      "\n",
      " [[[33 34]]\n",
      "\n",
      "  [[35 36]]\n",
      "\n",
      "  [[37 38]]\n",
      "\n",
      "  [[39 40]]\n",
      "\n",
      "  [[41 42]]\n",
      "\n",
      "  [[43 44]]\n",
      "\n",
      "  [[45 46]]\n",
      "\n",
      "  [[47 48]]]]\n",
      "\n",
      "Result after applying _rel_shift:\n",
      "[[[[ 5  6]]\n",
      "\n",
      "  [[ 7  8]]\n",
      "\n",
      "  [[ 9 10]]\n",
      "\n",
      "  [[11 12]]\n",
      "\n",
      "  [[13 14]]\n",
      "\n",
      "  [[15 16]]\n",
      "\n",
      "  [[ 0  0]]\n",
      "\n",
      "  [[17 18]]]\n",
      "\n",
      "\n",
      " [[[19 20]]\n",
      "\n",
      "  [[21 22]]\n",
      "\n",
      "  [[23 24]]\n",
      "\n",
      "  [[25 26]]\n",
      "\n",
      "  [[27 28]]\n",
      "\n",
      "  [[29 30]]\n",
      "\n",
      "  [[31 32]]\n",
      "\n",
      "  [[ 0  0]]]\n",
      "\n",
      "\n",
      " [[[33 34]]\n",
      "\n",
      "  [[35 36]]\n",
      "\n",
      "  [[37 38]]\n",
      "\n",
      "  [[39 40]]\n",
      "\n",
      "  [[41 42]]\n",
      "\n",
      "  [[43 44]]\n",
      "\n",
      "  [[45 46]]\n",
      "\n",
      "  [[47 48]]]]\n"
     ]
    }
   ],
   "source": [
    "import tensorflow as tf\n",
    "\n",
    "# Define the _rel_shift function\n",
    "def _rel_shift(x):\n",
    "    x_size = x.shape.as_list()\n",
    "\n",
    "    x = tf.pad(x, [[0, 0], [1, 0], [0, 0], [0, 0]])\n",
    "    x = tf.reshape(x, [x_size[1] + 1, x_size[0], x_size[2], x_size[3]])\n",
    "    x = tf.slice(x, [1, 0, 0, 0], [-1, -1, -1, -1])\n",
    "    x = tf.reshape(x, x_size)\n",
    "\n",
    "    return x\n",
    "\n",
    "# Create a sample tensor x with shape (3, 8, 1, 2)\n",
    "x = tf.constant([[[[1, 2]], [[3, 4]], [[5, 6]], [[7, 8]], [[9, 10]], [[11, 12]], [[13, 14]], [[15, 16]]],\n",
    "                 [[[17, 18]], [[19, 20]], [[21, 22]], [[23, 24]], [[25, 26]], [[27, 28]], [[29, 30]], [[31, 32]]],\n",
    "                 [[[33, 34]], [[35, 36]], [[37, 38]], [[39, 40]], [[41, 42]], [[43, 44]], [[45, 46]], [[47, 48]]]])\n",
    "\n",
    "# Apply the _rel_shift function to x\n",
    "result = _rel_shift(x)\n",
    "\n",
    "# Print the original and result tensors\n",
    "print(\"Original x:\")\n",
    "print(x.numpy())\n",
    "print(\"\\nResult after applying _rel_shift:\")\n",
    "print(result.numpy())"
   ]
  },
  {
   "cell_type": "code",
   "execution_count": null,
   "metadata": {},
   "outputs": [],
   "source": []
  }
 ],
 "metadata": {
  "kernelspec": {
   "display_name": "new",
   "language": "python",
   "name": "python3"
  },
  "language_info": {
   "codemirror_mode": {
    "name": "ipython",
    "version": 3
   },
   "file_extension": ".py",
   "mimetype": "text/x-python",
   "name": "python",
   "nbconvert_exporter": "python",
   "pygments_lexer": "ipython3",
   "version": "3.8.0"
  },
  "orig_nbformat": 4
 },
 "nbformat": 4,
 "nbformat_minor": 2
}
